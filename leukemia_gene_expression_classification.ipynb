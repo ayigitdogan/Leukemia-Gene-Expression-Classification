{
 "cells": [
  {
   "cell_type": "markdown",
   "metadata": {
    "id": "aulqICQSER0k"
   },
   "source": [
    "Leukemia describes a group of blood disorders characterized by the dysfunctional production and development of lymphocytes, a type of white blood cell.\n",
    "\n",
    "In this notebook, 2 different models are provided to solve multiclass classification problem on [leukemia gene expression dataset](https://www.kaggle.com/datasets/brunogrisci/leukemia-gene-expression-cumida) from [Curated Microarray Database (CuMiDa)](https://sbcb.inf.ufrgs.br/cumida).\n",
    "\n",
    "The common challenge in gene expression arrays is that they violate the assumption that the number of samples is higher than the number of predictors (*p >> n*). Therefore, *Naive Bayes Classifier* and *Support Vector Machines* will be used as model algorithms, which perform well on such data most of the time. The dimensionality of the original dataset will be reduced by decomposing it into principal components and keeping the principal components that explain the 90% of the variance. The reduced version of the data will be feeding the Support Vector Classifier. "
   ]
  },
  {
   "cell_type": "markdown",
   "metadata": {
    "id": "PGjmrFWxER0n"
   },
   "source": [
    "## Libraries"
   ]
  },
  {
   "cell_type": "code",
   "execution_count": 1,
   "metadata": {
    "id": "i0a4wNfUER0n"
   },
   "outputs": [],
   "source": [
    "import numpy as np\n",
    "import pandas as pd\n",
    "import matplotlib.pyplot as plt\n",
    "%matplotlib inline\n",
    "import seaborn as sns\n",
    "\n",
    "from sklearn.model_selection import train_test_split\n",
    "from sklearn.model_selection import GridSearchCV, cross_val_score\n",
    "\n",
    "from sklearn.decomposition import PCA\n",
    "\n",
    "from sklearn.metrics import accuracy_score, confusion_matrix\n",
    "\n",
    "from sklearn.naive_bayes import GaussianNB\n",
    "from sklearn.svm import SVC"
   ]
  },
  {
   "cell_type": "markdown",
   "metadata": {
    "id": "mwF3HZMJER0p"
   },
   "source": [
    "## Importing and Preprocessing the Data"
   ]
  },
  {
   "cell_type": "code",
   "execution_count": 2,
   "metadata": {
    "id": "TuNslQwrER0q"
   },
   "outputs": [],
   "source": [
    "data = pd.read_csv('./Data/Leukemia_GSE9476.csv')"
   ]
  },
  {
   "cell_type": "code",
   "execution_count": 3,
   "metadata": {
    "colab": {
     "base_uri": "https://localhost:8080/",
     "height": 352
    },
    "id": "tzKgHQSBER0r",
    "outputId": "6b42d1bf-f66d-4759-c0a1-3e45d6295907"
   },
   "outputs": [
    {
     "name": "stdout",
     "output_type": "stream",
     "text": [
      "(64, 22285)\n"
     ]
    },
    {
     "data": {
      "text/html": [
       "<div>\n",
       "<style scoped>\n",
       "    .dataframe tbody tr th:only-of-type {\n",
       "        vertical-align: middle;\n",
       "    }\n",
       "\n",
       "    .dataframe tbody tr th {\n",
       "        vertical-align: top;\n",
       "    }\n",
       "\n",
       "    .dataframe thead th {\n",
       "        text-align: right;\n",
       "    }\n",
       "</style>\n",
       "<table border=\"1\" class=\"dataframe\">\n",
       "  <thead>\n",
       "    <tr style=\"text-align: right;\">\n",
       "      <th></th>\n",
       "      <th>samples</th>\n",
       "      <th>type</th>\n",
       "      <th>1007_s_at</th>\n",
       "      <th>1053_at</th>\n",
       "      <th>117_at</th>\n",
       "      <th>121_at</th>\n",
       "      <th>1255_g_at</th>\n",
       "      <th>1294_at</th>\n",
       "      <th>1316_at</th>\n",
       "      <th>1320_at</th>\n",
       "      <th>...</th>\n",
       "      <th>AFFX-r2-Hs28SrRNA-5_at</th>\n",
       "      <th>AFFX-r2-Hs28SrRNA-M_at</th>\n",
       "      <th>AFFX-r2-P1-cre-3_at</th>\n",
       "      <th>AFFX-r2-P1-cre-5_at</th>\n",
       "      <th>AFFX-ThrX-3_at</th>\n",
       "      <th>AFFX-ThrX-5_at</th>\n",
       "      <th>AFFX-ThrX-M_at</th>\n",
       "      <th>AFFX-TrpnX-3_at</th>\n",
       "      <th>AFFX-TrpnX-5_at</th>\n",
       "      <th>AFFX-TrpnX-M_at</th>\n",
       "    </tr>\n",
       "  </thead>\n",
       "  <tbody>\n",
       "    <tr>\n",
       "      <th>0</th>\n",
       "      <td>1</td>\n",
       "      <td>Bone_Marrow_CD34</td>\n",
       "      <td>7.745245</td>\n",
       "      <td>7.811210</td>\n",
       "      <td>6.477916</td>\n",
       "      <td>8.841506</td>\n",
       "      <td>4.546941</td>\n",
       "      <td>7.957714</td>\n",
       "      <td>5.344999</td>\n",
       "      <td>4.673364</td>\n",
       "      <td>...</td>\n",
       "      <td>5.058849</td>\n",
       "      <td>6.810004</td>\n",
       "      <td>12.800060</td>\n",
       "      <td>12.718612</td>\n",
       "      <td>5.391512</td>\n",
       "      <td>4.666166</td>\n",
       "      <td>3.974759</td>\n",
       "      <td>3.656693</td>\n",
       "      <td>4.160622</td>\n",
       "      <td>4.139249</td>\n",
       "    </tr>\n",
       "    <tr>\n",
       "      <th>1</th>\n",
       "      <td>12</td>\n",
       "      <td>Bone_Marrow_CD34</td>\n",
       "      <td>8.087252</td>\n",
       "      <td>7.240673</td>\n",
       "      <td>8.584648</td>\n",
       "      <td>8.983571</td>\n",
       "      <td>4.548934</td>\n",
       "      <td>8.011652</td>\n",
       "      <td>5.579647</td>\n",
       "      <td>4.828184</td>\n",
       "      <td>...</td>\n",
       "      <td>4.436153</td>\n",
       "      <td>6.751471</td>\n",
       "      <td>12.472706</td>\n",
       "      <td>12.333593</td>\n",
       "      <td>5.379738</td>\n",
       "      <td>4.656786</td>\n",
       "      <td>4.188348</td>\n",
       "      <td>3.792535</td>\n",
       "      <td>4.204414</td>\n",
       "      <td>4.122700</td>\n",
       "    </tr>\n",
       "    <tr>\n",
       "      <th>2</th>\n",
       "      <td>13</td>\n",
       "      <td>Bone_Marrow_CD34</td>\n",
       "      <td>7.792056</td>\n",
       "      <td>7.549368</td>\n",
       "      <td>11.053504</td>\n",
       "      <td>8.909703</td>\n",
       "      <td>4.549328</td>\n",
       "      <td>8.237099</td>\n",
       "      <td>5.406489</td>\n",
       "      <td>4.615572</td>\n",
       "      <td>...</td>\n",
       "      <td>4.392061</td>\n",
       "      <td>6.086295</td>\n",
       "      <td>12.637384</td>\n",
       "      <td>12.499038</td>\n",
       "      <td>5.316604</td>\n",
       "      <td>4.600566</td>\n",
       "      <td>3.845561</td>\n",
       "      <td>3.635715</td>\n",
       "      <td>4.174199</td>\n",
       "      <td>4.067152</td>\n",
       "    </tr>\n",
       "    <tr>\n",
       "      <th>3</th>\n",
       "      <td>14</td>\n",
       "      <td>Bone_Marrow_CD34</td>\n",
       "      <td>7.767265</td>\n",
       "      <td>7.094460</td>\n",
       "      <td>11.816433</td>\n",
       "      <td>8.994654</td>\n",
       "      <td>4.697018</td>\n",
       "      <td>8.283412</td>\n",
       "      <td>5.582195</td>\n",
       "      <td>4.903684</td>\n",
       "      <td>...</td>\n",
       "      <td>4.633334</td>\n",
       "      <td>6.375991</td>\n",
       "      <td>12.903630</td>\n",
       "      <td>12.871454</td>\n",
       "      <td>5.179951</td>\n",
       "      <td>4.641952</td>\n",
       "      <td>3.991634</td>\n",
       "      <td>3.704587</td>\n",
       "      <td>4.149938</td>\n",
       "      <td>3.910150</td>\n",
       "    </tr>\n",
       "    <tr>\n",
       "      <th>4</th>\n",
       "      <td>15</td>\n",
       "      <td>Bone_Marrow_CD34</td>\n",
       "      <td>8.010117</td>\n",
       "      <td>7.405281</td>\n",
       "      <td>6.656049</td>\n",
       "      <td>9.050682</td>\n",
       "      <td>4.514986</td>\n",
       "      <td>8.377046</td>\n",
       "      <td>5.493713</td>\n",
       "      <td>4.860754</td>\n",
       "      <td>...</td>\n",
       "      <td>5.305192</td>\n",
       "      <td>6.700453</td>\n",
       "      <td>12.949352</td>\n",
       "      <td>12.782515</td>\n",
       "      <td>5.341689</td>\n",
       "      <td>4.560315</td>\n",
       "      <td>3.887020</td>\n",
       "      <td>3.629853</td>\n",
       "      <td>4.127513</td>\n",
       "      <td>4.004316</td>\n",
       "    </tr>\n",
       "  </tbody>\n",
       "</table>\n",
       "<p>5 rows × 22285 columns</p>\n",
       "</div>"
      ],
      "text/plain": [
       "   samples              type  1007_s_at   1053_at     117_at    121_at  \\\n",
       "0        1  Bone_Marrow_CD34   7.745245  7.811210   6.477916  8.841506   \n",
       "1       12  Bone_Marrow_CD34   8.087252  7.240673   8.584648  8.983571   \n",
       "2       13  Bone_Marrow_CD34   7.792056  7.549368  11.053504  8.909703   \n",
       "3       14  Bone_Marrow_CD34   7.767265  7.094460  11.816433  8.994654   \n",
       "4       15  Bone_Marrow_CD34   8.010117  7.405281   6.656049  9.050682   \n",
       "\n",
       "   1255_g_at   1294_at   1316_at   1320_at  ...  AFFX-r2-Hs28SrRNA-5_at  \\\n",
       "0   4.546941  7.957714  5.344999  4.673364  ...                5.058849   \n",
       "1   4.548934  8.011652  5.579647  4.828184  ...                4.436153   \n",
       "2   4.549328  8.237099  5.406489  4.615572  ...                4.392061   \n",
       "3   4.697018  8.283412  5.582195  4.903684  ...                4.633334   \n",
       "4   4.514986  8.377046  5.493713  4.860754  ...                5.305192   \n",
       "\n",
       "   AFFX-r2-Hs28SrRNA-M_at  AFFX-r2-P1-cre-3_at  AFFX-r2-P1-cre-5_at  \\\n",
       "0                6.810004            12.800060            12.718612   \n",
       "1                6.751471            12.472706            12.333593   \n",
       "2                6.086295            12.637384            12.499038   \n",
       "3                6.375991            12.903630            12.871454   \n",
       "4                6.700453            12.949352            12.782515   \n",
       "\n",
       "   AFFX-ThrX-3_at  AFFX-ThrX-5_at  AFFX-ThrX-M_at  AFFX-TrpnX-3_at  \\\n",
       "0        5.391512        4.666166        3.974759         3.656693   \n",
       "1        5.379738        4.656786        4.188348         3.792535   \n",
       "2        5.316604        4.600566        3.845561         3.635715   \n",
       "3        5.179951        4.641952        3.991634         3.704587   \n",
       "4        5.341689        4.560315        3.887020         3.629853   \n",
       "\n",
       "   AFFX-TrpnX-5_at  AFFX-TrpnX-M_at  \n",
       "0         4.160622         4.139249  \n",
       "1         4.204414         4.122700  \n",
       "2         4.174199         4.067152  \n",
       "3         4.149938         3.910150  \n",
       "4         4.127513         4.004316  \n",
       "\n",
       "[5 rows x 22285 columns]"
      ]
     },
     "execution_count": 3,
     "metadata": {},
     "output_type": "execute_result"
    }
   ],
   "source": [
    "print(data.shape)\n",
    "data.head()"
   ]
  },
  {
   "cell_type": "code",
   "execution_count": 4,
   "metadata": {
    "colab": {
     "base_uri": "https://localhost:8080/"
    },
    "id": "uG4Y2Re5ER0r",
    "outputId": "51f1eff8-8b53-43d4-e418-9ad8ee9d0bd7"
   },
   "outputs": [
    {
     "data": {
      "text/plain": [
       "AML                 26\n",
       "Bone_Marrow         10\n",
       "PB                  10\n",
       "PBSC_CD34           10\n",
       "Bone_Marrow_CD34     8\n",
       "Name: type, dtype: int64"
      ]
     },
     "execution_count": 4,
     "metadata": {},
     "output_type": "execute_result"
    }
   ],
   "source": [
    "data['type'].value_counts()"
   ]
  },
  {
   "cell_type": "code",
   "execution_count": 5,
   "metadata": {
    "id": "e5waMRnDER0s"
   },
   "outputs": [],
   "source": [
    "# Replacing labels with numeric values\n",
    "data[\"type\"] = data[\"type\"].replace({\"AML\":0, \"Bone_Marrow\":1, \"PB\":2, \"PBSC_CD34\":3, \"Bone_Marrow_CD34\":4})\n",
    "# Storing label names in a list\n",
    "labels = [\"AML\", \"Bone_Marrow\", \"PB\", \"PBSC_CD34\", \"Bone_Marrow_CD34\"]"
   ]
  },
  {
   "cell_type": "markdown",
   "metadata": {
    "id": "ygPOIe2LER0t"
   },
   "source": [
    "### Train-Test Split"
   ]
  },
  {
   "cell_type": "code",
   "execution_count": 6,
   "metadata": {
    "id": "xVRwj-dIER0u"
   },
   "outputs": [],
   "source": [
    "X = data.drop([\"type\"], axis=1)\n",
    "y = data[\"type\"]\n",
    "  \n",
    "# using the train test split function\n",
    "X_train, X_test, y_train, y_test = train_test_split(X, y, random_state=200, test_size=0.30, shuffle=True)"
   ]
  },
  {
   "cell_type": "markdown",
   "metadata": {
    "id": "LK0a7xuOER0v"
   },
   "source": [
    "### Principal Component Analysis"
   ]
  },
  {
   "cell_type": "code",
   "execution_count": 7,
   "metadata": {
    "colab": {
     "base_uri": "https://localhost:8080/"
    },
    "id": "TzI1oyD1ER0v",
    "outputId": "ad22366a-e6a7-4722-9719-55eb9ff5e195"
   },
   "outputs": [
    {
     "data": {
      "text/plain": [
       "array([[ 7.42136611e+01, -2.18219666e+01, -1.70596309e+01, ...,\n",
       "         1.69833896e+00,  1.65937536e+00,  1.27173212e-13],\n",
       "       [ 2.20025774e+01,  4.37665430e+01, -1.27529875e+01, ...,\n",
       "         8.35724135e-02, -9.58648421e-01,  1.27173212e-13],\n",
       "       [-8.31658114e+00, -2.42812693e+01, -2.09776274e+01, ...,\n",
       "        -3.89558842e-01, -8.52854616e-03,  1.27173212e-13],\n",
       "       ...,\n",
       "       [ 2.36180585e+01,  3.74960783e+01, -2.36891534e+01, ...,\n",
       "        -4.22934933e+00,  1.24303529e+01,  1.27173212e-13],\n",
       "       [-1.60907152e+01, -1.68696788e+01,  1.83121977e+01, ...,\n",
       "         2.19669798e-01, -1.57023579e-01,  1.27173212e-13],\n",
       "       [ 4.35651139e+01,  1.13885969e+01,  5.10196868e+01, ...,\n",
       "        -7.98296444e-02,  2.49958631e-01,  1.27173212e-13]])"
      ]
     },
     "execution_count": 7,
     "metadata": {},
     "output_type": "execute_result"
    }
   ],
   "source": [
    "pca = PCA()\n",
    "pca.fit_transform(X_train)"
   ]
  },
  {
   "cell_type": "code",
   "execution_count": 8,
   "metadata": {
    "colab": {
     "base_uri": "https://localhost:8080/",
     "height": 282
    },
    "id": "i8P2vdYNER0w",
    "outputId": "1551b140-1f24-4dbe-9340-7308a78c7d98"
   },
   "outputs": [
    {
     "name": "stdout",
     "output_type": "stream",
     "text": [
      "19 features explain around 90% of the variance.\n"
     ]
    },
    {
     "data": {
      "image/png": "[encoded data removed]",
      "text/plain": [
       "<Figure size 640x480 with 1 Axes>"
      ]
     },
     "metadata": {},
     "output_type": "display_data"
    }
   ],
   "source": [
    "total = sum(pca.explained_variance_)\n",
    "k = 0\n",
    "current_variance = 0\n",
    "\n",
    "while current_variance/total < 0.90:\n",
    "    current_variance += pca.explained_variance_[k]\n",
    "    k = k + 1\n",
    "    \n",
    "print(k, \" features explain around 90% of the variance.\", sep='')\n",
    "\n",
    "pca = PCA(n_components=k)\n",
    "X_train.pca = pca.fit(X_train)\n",
    "X_train_pca = pca.transform(X_train)\n",
    "X_test_pca = pca.transform(X_test)\n",
    "\n",
    "var_exp = pca.explained_variance_ratio_.cumsum()\n",
    "var_exp = var_exp*100\n",
    "plt.bar(range(k), var_exp);"
   ]
  },
  {
   "cell_type": "code",
   "execution_count": 9,
   "metadata": {
    "id": "ywtRsv7eER0w"
   },
   "outputs": [],
   "source": [
    "pca_2 = PCA(n_components=2).fit(X_train)\n",
    "X_train_reduced = pca_2.transform(X_train)"
   ]
  },
  {
   "cell_type": "code",
   "execution_count": 10,
   "metadata": {
    "colab": {
     "base_uri": "https://localhost:8080/",
     "height": 391
    },
    "id": "OTdgBqnpER0x",
    "outputId": "35e85ca9-f14f-443a-a335-acd74bb73c11"
   },
   "outputs": [
    {
     "data": {
      "text/plain": [
       "<matplotlib.collections.PathCollection at 0x1ebb669ba00>"
      ]
     },
     "execution_count": 10,
     "metadata": {},
     "output_type": "execute_result"
    },
    {
     "data": {
      "image/png": "[encoded data removed]",
      "text/plain": [
       "<Figure size 1000x600 with 1 Axes>"
      ]
     },
     "metadata": {},
     "output_type": "display_data"
    }
   ],
   "source": [
    "fig = plt.figure(1, figsize = (10, 6))\n",
    "plt.scatter(X_train_reduced[:, 0],  X_train_reduced[:, 1], c = y_train, cmap = plt.cm.Paired, linewidths=10)"
   ]
  },
  {
   "cell_type": "markdown",
   "metadata": {},
   "source": [
    "Clusters can be seen clearly when the data is reduced to 2D."
   ]
  },
  {
   "cell_type": "markdown",
   "metadata": {
    "id": "vGCSercSER0x"
   },
   "source": [
    "## Modeling"
   ]
  },
  {
   "cell_type": "markdown",
   "metadata": {
    "id": "o6FaY53GER0y"
   },
   "source": [
    "### Baseline\n",
    "\n",
    "Firstly, the accuracy score of simply predicting each test observation as the dominating class, which is acute myeloid leukemia (AML) in this case, can be checked as a baseline."
   ]
  },
  {
   "cell_type": "code",
   "execution_count": 14,
   "metadata": {
    "colab": {
     "base_uri": "https://localhost:8080/"
    },
    "id": "EtaCEBMFER0y",
    "outputId": "a455ff67-164d-48ef-e7b1-757cfa6a90d7"
   },
   "outputs": [
    {
     "name": "stdout",
     "output_type": "stream",
     "text": [
      "Baseline Accuracy 45.0%\n"
     ]
    }
   ],
   "source": [
    "base_acc = len(y_test[y_test == 0])/len(y_test)*100\n",
    "print(\"Baseline Accuracy \", round(base_acc, 3), \"%\", sep = '')"
   ]
  },
  {
   "cell_type": "markdown",
   "metadata": {
    "id": "z4LeA9fAER0z"
   },
   "source": [
    "### Naive Bayes Classifier"
   ]
  },
  {
   "cell_type": "code",
   "execution_count": 12,
   "metadata": {
    "colab": {
     "base_uri": "https://localhost:8080/",
     "height": 390
    },
    "id": "CkluFC1aER0z",
    "outputId": "e9a6fc0f-d8f3-46c9-8be7-20adb87cc345"
   },
   "outputs": [
    {
     "name": "stdout",
     "output_type": "stream",
     "text": [
      "Naive Bayes Accuracy: 95.0%\n"
     ]
    },
    {
     "data": {
      "image/png": "[encoded data removed]",
      "text/plain": [
       "<Figure size 640x480 with 2 Axes>"
      ]
     },
     "metadata": {},
     "output_type": "display_data"
    }
   ],
   "source": [
    "# Model\n",
    "nb_model = GaussianNB()\n",
    "nb_model.fit(X_train, y_train)\n",
    "\n",
    "# Prediction\n",
    "nb_pred = nb_model.predict(X_test)\n",
    "\n",
    "# Accuracy\n",
    "nb_acc = accuracy_score(y_test, nb_pred)*100\n",
    "print('Naive Bayes Accuracy: ', round(nb_acc, 3), \"%\", sep=\"\")\n",
    "\n",
    "# Confusion Matrix\n",
    "cm_nb = confusion_matrix(y_test, nb_pred)\n",
    "\n",
    "# Plot\n",
    "ax = plt.subplot()\n",
    "sns.heatmap(cm_nb, annot=True, ax=ax, fmt='g', cmap='Greens') \n",
    "\n",
    "# labels, title and ticks\n",
    "ax.set_xlabel('Predicted labels')\n",
    "ax.set_ylabel('True labels')\n",
    "ax.xaxis.set_ticklabels(labels, rotation=90) \n",
    "ax.yaxis.set_ticklabels(labels, rotation=360);"
   ]
  },
  {
   "cell_type": "markdown",
   "metadata": {
    "id": "hX7k1Er6ER00"
   },
   "source": [
    "### Support Vector Machines"
   ]
  },
  {
   "cell_type": "code",
   "execution_count": 13,
   "metadata": {
    "colab": {
     "base_uri": "https://localhost:8080/",
     "height": 425
    },
    "id": "vvFbLZECER01",
    "outputId": "55db3452-2c70-48d2-de69-1152f49b547d"
   },
   "outputs": [
    {
     "name": "stdout",
     "output_type": "stream",
     "text": [
      "Best Parameters:\n",
      " {'C': 10, 'decision_function_shape': 'ovo', 'gamma': 1e-05, 'kernel': 'rbf'}\n",
      "SVM Accuracy: 100.0%\n"
     ]
    },
    {
     "data": {
      "image/png": "[encoded data removed]",
      "text/plain": [
       "<Figure size 640x480 with 2 Axes>"
      ]
     },
     "metadata": {},
     "output_type": "display_data"
    }
   ],
   "source": [
    "# Parameter grid\n",
    "svm_param_grid = {  'C': [0.1, 1, 10, 100],\n",
    "                    \"decision_function_shape\" : [\"ovo\", \"ovr\"],\n",
    "                    'gamma': [1, 0.1, 0.01, 0.001, 0.00001, 10],\n",
    "                    \"kernel\": [\"linear\", \"rbf\", \"poly\"]} \n",
    "\n",
    "# Creating the SVM grid search classifier\n",
    "svm_grid = GridSearchCV(SVC(), svm_param_grid, cv=3)\n",
    "\n",
    "# Training the classifier\n",
    "svm_grid.fit(X_train_pca, y_train)\n",
    "\n",
    "print(\"Best Parameters:\\n\", svm_grid.best_params_)\n",
    "\n",
    "# Selecting the best SVC\n",
    "best_svc = svm_grid.best_estimator_\n",
    "\n",
    "# Predictions\n",
    "svm_pred = best_svc.predict(X_test_pca)\n",
    "\n",
    "# Accuracy\n",
    "svc_acc = accuracy_score(y_test, svm_pred)*100\n",
    "print('SVM Accuracy: ', round(svc_acc, 3), \"%\", sep=\"\")\n",
    "\n",
    "cm_svm = confusion_matrix(y_test, svm_pred)\n",
    "\n",
    "ax = plt.subplot()\n",
    "sns.heatmap(cm_svm, annot=True, ax = ax, fmt='g', cmap='Greens') \n",
    "\n",
    "# Labels, title and ticks\n",
    "ax.set_xlabel('Predicted labels')\n",
    "ax.set_ylabel('True labels')\n",
    "ax.xaxis.set_ticklabels(labels, rotation=90) \n",
    "ax.yaxis.set_ticklabels(labels, rotation=360);"
   ]
  },
  {
   "cell_type": "markdown",
   "metadata": {},
   "source": [
    "As can be seen from the confusion matrices, both models perform well. If a larger part of the dataset (i.e. 75%) were used as training data, Naive Bayes would also reach to perfect classification.\n",
    "\n",
    "Note that the models might not perform as well as this case on different datasets or might require further configurations, since the dataset used in this notebook is extremely clean.\n",
    "\n",
    "Inspired by: [Gene Expression Classification](https://www.kaggle.com/code/varimp/gene-expression-classification)"
   ]
  }
 ],
 "metadata": {
  "colab": {
   "provenance": []
  },
  "kernelspec": {
   "display_name": "Python 3 (ipykernel)",
   "language": "python",
   "name": "python3"
  },
  "language_info": {
   "codemirror_mode": {
    "name": "ipython",
    "version": 3
   },
   "file_extension": ".py",
   "mimetype": "text/x-python",
   "name": "python",
   "nbconvert_exporter": "python",
   "pygments_lexer": "ipython3",
   "version": "3.9.16"
  }
 },
 "nbformat": 4,
 "nbformat_minor": 1
}
